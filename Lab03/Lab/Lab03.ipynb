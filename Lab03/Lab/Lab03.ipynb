{
 "cells": [
  {
   "cell_type": "markdown",
   "metadata": {},
   "source": [
    "PTUA Laboratory Session 3a:\n",
    "\n",
    "Practice using the Python interpreter as a calculator:\n",
    "\n",
    "The volume of a sphere with radius r is 4/3 π r3. What is the volume of a sphere with radius 5?\n",
    "\n",
    "Suppose the cover price of a book is $24.95, but bookstores get a 40% discount. \n",
    "Shipping costs $3 for the first copy and 75 cents for each additional copy. What is the total wholesale cost for 60 copies?\n",
    "\n",
    "If I leave my house at 6:52 am and run 1 mile at an easy pace (8:15 per mile), then 3 miles at tempo (7:12 per mile) and 1 mile at easy pace again, what time do I get home for breakfast?\n"
   ]
  },
  {
   "cell_type": "code",
   "execution_count": 2,
   "metadata": {},
   "outputs": [],
   "source": [
    "import numpy\n",
    "from math import pi\n",
    "import time\n"
   ]
  },
  {
   "cell_type": "code",
   "execution_count": 3,
   "metadata": {},
   "outputs": [
    {
     "name": "stdout",
     "output_type": "stream",
     "text": [
      "The volume of the sphere is:  523.5987755982989\n"
     ]
    }
   ],
   "source": [
    "sphere_vol = 4/3 * pi * 5**3\n",
    "print(\"The volume of the sphere is: \", sphere_vol)"
   ]
  },
  {
   "cell_type": "code",
   "execution_count": 4,
   "metadata": {},
   "outputs": [
    {
     "name": "stdout",
     "output_type": "stream",
     "text": [
      "The cost with discount and shipping is: $ 646.8\n"
     ]
    }
   ],
   "source": [
    "coverprice = 24.95\n",
    "discount = 0.4\n",
    "shippingfirst = 3\n",
    "shippingnext = 0.75\n",
    "bookorder = 60\n",
    "\n",
    "cost_shipping = (shippingnext*bookorder)+shippingfirst\n",
    "bookcost = bookorder*coverprice*discount\n",
    "\n",
    "totalcost = bookcost+cost_shipping\n",
    "totalcost = round(totalcost,2)\n",
    "print(\"The cost with discount and shipping is: $\",totalcost)\n"
   ]
  },
  {
   "cell_type": "code",
   "execution_count": 6,
   "metadata": {},
   "outputs": [
    {
     "name": "stdout",
     "output_type": "stream",
     "text": [
      "30.6\n",
      "Breakfast time is at:  7 : 30.6\n"
     ]
    }
   ],
   "source": [
    "time_easy_min = 8\n",
    "time_easy_sec = 15\n",
    "\n",
    "time_fast_min = 7\n",
    "time_fast_sec = 12\n",
    "\n",
    "easy_miles = 2\n",
    "fast_miles = 3\n",
    "\n",
    "start_time_hr = 6\n",
    "start_time_min = 52\n",
    "start_time_sec = 0\n",
    "\n",
    "total_time_easy_min = time_easy_min * easy_miles\n",
    "total_time_easy_sec = time_easy_sec * easy_miles\n",
    "\n",
    "total_time_fast_min = time_fast_min * fast_miles\n",
    "total_time_fast_sec = time_fast_sec * fast_miles\n",
    "\n",
    "#print(total_time_easy_min, total_time_easy_sec)\n",
    "#print(total_time_fast_min, total_time_fast_sec)\n",
    "\n",
    "total_time_min = total_time_easy_min + total_time_fast_min\n",
    "total_time_sec = total_time_easy_sec + total_time_fast_sec\n",
    "\n",
    "#print(total_time_min, total_time_sec)\n",
    "total_time_sec_fin = total_time_sec %60\n",
    "total_time_min_fin = total_time_min +((total_time_sec - total_time_sec_fin)/60)\n",
    "\n",
    "time_sec_hr = total_time_min + total_time_min\n",
    "#print (total_time_min_fin,total_time_sec_fin)\n",
    "\n",
    "new_time_hr = (start_time_min+total_time_min_fin)\n",
    "new_time_min = (new_time_hr/60) %1 *60\n",
    "new_time_min = new_time_min + (total_time_sec_fin/10)\n",
    "print(new_time_min)\n",
    "new_time_hr = int(new_time_hr/60 - 0.5)\n",
    "\n",
    "print(\"Breakfast time is at: \", (start_time_hr + new_time_hr),\":\",new_time_min)\n",
    "\n",
    "#i hate working with dates and times and also running\n",
    "\n"
   ]
  },
  {
   "cell_type": "code",
   "execution_count": 5,
   "metadata": {},
   "outputs": [
    {
     "name": "stdout",
     "output_type": "stream",
     "text": [
      "3\n"
     ]
    }
   ],
   "source": [
    "#word = 'banana'\n",
    "#count = 0\n",
    "#for letter in word:\n",
    "#    if letter == 'a':\n",
    "#        count = count + 1\n",
    "#print(count)\n",
    "\n",
    "print (word.count('a'))\n",
    "\n"
   ]
  },
  {
   "cell_type": "code",
   "execution_count": 12,
   "metadata": {},
   "outputs": [
    {
     "name": "stdout",
     "output_type": "stream",
     "text": [
      "What is the word?blue\n"
     ]
    },
    {
     "data": {
      "text/plain": [
       "False"
      ]
     },
     "execution_count": 12,
     "metadata": {},
     "output_type": "execute_result"
    }
   ],
   "source": [
    "#fruit = 'banana'\n",
    "#fruit[0:5:2]\n",
    "\n",
    "palword = input(\"What is the word?\")\n",
    "palword[::-1] == palword\n"
   ]
  },
  {
   "cell_type": "code",
   "execution_count": 34,
   "metadata": {},
   "outputs": [
    {
     "data": {
      "text/plain": [
       "True"
      ]
     },
     "execution_count": 34,
     "metadata": {},
     "output_type": "execute_result"
    }
   ],
   "source": [
    "def any_lowercase1(s):\n",
    "    for c in s:\n",
    "        if c.islower():\n",
    "            return True\n",
    "        else:\n",
    "            return False\n",
    "# Will return True if all lower, will return False if any not lower\n",
    "\n",
    "def any_lowercase2(s):\n",
    "    for c in s:\n",
    "        if 'c'.islower():\n",
    "            return 'True'\n",
    "        else:\n",
    "            return 'False'\n",
    "#Will return the value \"True\" regardless of input as \"c\" is lower\n",
    "\n",
    "def any_lowercase3(s):\n",
    "    for c in s:\n",
    "        flag = c.islower()\n",
    "    return flag\n",
    "#Will return True if any are lower\n",
    "\n",
    "def any_lowercase4(s):\n",
    "    flag = False\n",
    "    for c in s:\n",
    "        flag = flag or c.islower()\n",
    "    return flag\n",
    "#Will return True if any are upper\n",
    "\n",
    "def any_lowercase5(s):\n",
    "    for c in s:\n",
    "        if not c.islower():\n",
    "            return False\n",
    "    return True\n",
    "#Will return True only if all are lower\n",
    "\n",
    "s = 'str'\n",
    "any_lowercase5(s)"
   ]
  },
  {
   "cell_type": "code",
   "execution_count": 7,
   "metadata": {},
   "outputs": [
    {
     "name": "stdout",
     "output_type": "stream",
     "text": [
      "what is the word? ejgjijj\n",
      "what is the letter shift? -5\n"
     ]
    }
   ],
   "source": [
    "import string\n",
    "from string import ascii_lowercase\n",
    "letters = {letter: str(index) for index, letter in enumerate(ascii_lowercase, start=1)} \n",
    "word = input(\"what is the word? \")\n",
    "cypher = int(input(\"what is the letter shift? \"))\n"
   ]
  },
  {
   "cell_type": "code",
   "execution_count": 8,
   "metadata": {},
   "outputs": [
    {
     "name": "stdout",
     "output_type": "stream",
     "text": [
      "Your encoded word is:  zebedee\n"
     ]
    }
   ],
   "source": [
    "word2 = word.lower()\n",
    "word3 = list(word2)\n",
    "\n",
    "def alphabet_position(text):\n",
    "    text = word3\n",
    "    numbers = [letters[character] for character in text if character in letters]\n",
    "    return list(numbers)\n",
    "\n",
    "letter_position = list(alphabet_position(word3))\n",
    "\n",
    "codeword = []\n",
    "for i in range(len(letter_position)):\n",
    "    l = (int(letter_position[i])+96)\n",
    "    m = l + cypher\n",
    "    if m > 122:\n",
    "        m -= 26\n",
    "    elif m < 97:\n",
    "        m += 26\n",
    "    else:\n",
    "        m = m\n",
    "    n = str(chr(m))\n",
    "    codeword.append(n)\n",
    "codeword = \"\".join(codeword)\n",
    "print(\"Your encoded word is: \", codeword)\n"
   ]
  }
 ],
 "metadata": {
  "kernelspec": {
   "display_name": "Python 3",
   "language": "python",
   "name": "python3"
  },
  "language_info": {
   "codemirror_mode": {
    "name": "ipython",
    "version": 3
   },
   "file_extension": ".py",
   "mimetype": "text/x-python",
   "name": "python",
   "nbconvert_exporter": "python",
   "pygments_lexer": "ipython3",
   "version": "3.7.6"
  }
 },
 "nbformat": 4,
 "nbformat_minor": 4
}
